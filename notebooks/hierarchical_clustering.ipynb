{
 "nbformat": 4,
 "nbformat_minor": 2,
 "metadata": {
  "language_info": {
   "name": "python",
   "codemirror_mode": {
    "name": "ipython",
    "version": 3
   },
   "version": "3.6.9-final"
  },
  "orig_nbformat": 2,
  "file_extension": ".py",
  "mimetype": "text/x-python",
  "name": "python",
  "npconvert_exporter": "python",
  "pygments_lexer": "ipython3",
  "version": 3,
  "kernelspec": {
   "name": "python36964bitb26dbded01e54a2298271aaf8ead0d43",
   "display_name": "Python 3.6.9 64-bit"
  }
 },
 "cells": [
  {
   "cell_type": "code",
   "execution_count": null,
   "metadata": {},
   "outputs": [],
   "source": [
    "%load_ext autoreload\n",
    "%autoreload 2"
   ]
  },
  {
   "cell_type": "code",
   "execution_count": null,
   "metadata": {},
   "outputs": [],
   "source": [
    "from src.data.make_dataset import load_dossies_df\n",
    "from src.data.make_metadados import load_dossies_metadados_df\n",
    "from src.features.build_features import get_tfidf_features, get_tf_features\n",
    "from src.models import train_model, predict_model, validate_model\n",
    "from src.visualization.visualize import plot_dendrogram_Agglomerative, plot_dendrogram"
   ]
  },
  {
   "cell_type": "code",
   "execution_count": null,
   "metadata": {},
   "outputs": [],
   "source": [
    "dossies = load_dossies_df()\n",
    "len(dossies)"
   ]
  },
  {
   "cell_type": "code",
   "execution_count": null,
   "metadata": {},
   "outputs": [],
   "source": [
    "dossies.head()"
   ]
  },
  {
   "cell_type": "code",
   "execution_count": null,
   "metadata": {
    "tags": [
     "outputPrepend",
     "outputPrepend",
     "outputPrepend",
     "outputPrepend",
     "outputPrepend",
     "outputPrepend"
    ]
   },
   "outputs": [],
   "source": [
    "dossies_metadados = load_dossies_metadados_df(dossies.file)"
   ]
  },
  {
   "cell_type": "code",
   "execution_count": null,
   "metadata": {},
   "outputs": [],
   "source": [
    "dossies_metadados.head()"
   ]
  },
  {
   "cell_type": "code",
   "execution_count": null,
   "metadata": {},
   "outputs": [],
   "source": [
    "X, tfidf_feature_names = get_tfidf_features(dossies.text)\n",
    "X.shape"
   ]
  },
  {
   "cell_type": "code",
   "execution_count": null,
   "metadata": {},
   "outputs": [],
   "source": [
    "X_topics, tf_feature_names = get_tf_features(dossies.text, n_features=1000)\n",
    "X_topics.shape"
   ]
  },
  {
   "cell_type": "code",
   "execution_count": null,
   "metadata": {},
   "outputs": [],
   "source": [
    "aggl_clustering = train_model.agglomerative(X, distance_threshold=0, n_clusters=None, linkage='ward')\n",
    "aggl_clustering"
   ]
  },
  {
   "cell_type": "code",
   "execution_count": null,
   "metadata": {},
   "outputs": [],
   "source": [
    "n_topics = 100\n",
    "validate_model.print_top_words(train_model.lda(X_topics, n_topics), tf_feature_names, n_top_words=10)\n",
    "X_topics"
   ]
  },
  {
   "cell_type": "code",
   "execution_count": null,
   "metadata": {
    "tags": [
     "outputPrepend"
    ]
   },
   "outputs": [],
   "source": [
    "validate_model.print_top_words(train_model.nmf(X, n_topics), tfidf_feature_names, n_top_words=10)"
   ]
  },
  {
   "cell_type": "code",
   "execution_count": null,
   "metadata": {},
   "outputs": [],
   "source": [
    "plot_dendrogram_Agglomerative(\n",
    "    aggl_clustering,\n",
    "    truncate_mode='lastp',  # show only the last p merged clusters\n",
    "    p=100,  # show only the last p merged clusters\n",
    "    leaf_rotation=90,\n",
    "    # leaf_font_size=12.,\n",
    "    show_contracted=True    \n",
    ")"
   ]
  },
  {
   "cell_type": "code",
   "execution_count": null,
   "metadata": {},
   "outputs": [],
   "source": []
  },
  {
   "cell_type": "code",
   "execution_count": null,
   "metadata": {},
   "outputs": [],
   "source": [
    "Z = train_model.linkage_matrix(X, method='ward')\n",
    "plot_dendrogram(\n",
    "    Z,\n",
    "    truncate_mode='level',\n",
    "    p=5,\n",
    "    leaf_rotation=90,\n",
    "    # leaf_font_size=12.,\n",
    "    show_contracted=True\n",
    ")"
   ]
  },
  {
   "cell_type": "code",
   "execution_count": null,
   "metadata": {},
   "outputs": [],
   "source": [
    "# a partir da analise do dendrograma plotada, 5 clusters parece uma boa escolha\n",
    "n_clusters = 5\n",
    "labels = predict_model.Z_labels(Z, t=n_clusters, criterion='maxclust')\n",
    "labels"
   ]
  },
  {
   "cell_type": "code",
   "execution_count": null,
   "metadata": {},
   "outputs": [],
   "source": [
    "# Com os resultados dessa célula pode-se presumir que documentos com a label 2 está fortemente relacionado à questões de agricultura\n",
    "cluster_2 = validate_model.checar_categoria(dossies_metadados, labels, 2)\n",
    "cluster_2.info()\n",
    "print(cluster_2.head())"
   ]
  },
  {
   "cell_type": "code",
   "execution_count": null,
   "metadata": {},
   "outputs": [],
   "source": [
    "validate_model.checar_substring(cluster_2, 'titulo', 'cultivo')"
   ]
  },
  {
   "cell_type": "code",
   "execution_count": null,
   "metadata": {},
   "outputs": [],
   "source": [
    "# Com os resultados dessa célula pode-se presumir que documentos com a label 1 está fortemente relacionado à questões de agricultura\n",
    "cluster_1 = validate_model.checar_categoria(dossies_metadados, labels, 1)\n",
    "cluster_1.head()"
   ]
  },
  {
   "cell_type": "code",
   "execution_count": null,
   "metadata": {},
   "outputs": [],
   "source": [
    "validate_model.checar_substring(cluster_1, 'titulo', r'cogumelos?')"
   ]
  },
  {
   "cell_type": "code",
   "execution_count": null,
   "metadata": {},
   "outputs": [],
   "source": []
  }
 ]
}