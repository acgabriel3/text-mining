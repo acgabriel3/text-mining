{
 "cells": [
  {
   "cell_type": "code",
   "execution_count": 1,
   "metadata": {},
   "outputs": [],
   "source": [
    "%load_ext autoreload\n",
    "%autoreload 2"
   ]
  },
  {
   "cell_type": "code",
   "execution_count": 18,
   "metadata": {},
   "outputs": [],
   "source": [
    "import pandas as pd\n",
    "from src.data.paths import vw_dossies_path, vw_respostas_path, solicitacoes_path, pre_processed_respostas_dir\n",
    "from src.data.preprocess import pre_process\n",
    "import yaml\n",
    "import numpy as np"
   ]
  },
  {
   "cell_type": "code",
   "execution_count": 3,
   "metadata": {},
   "outputs": [],
   "source": [
    "# sr = pd.read_csv(sentencas_respostas_path, sep='\\t', names=['doc_id',  'paragrafo_id', 'sentenca_id', 'sentenca'])"
   ]
  },
  {
   "cell_type": "code",
   "execution_count": 4,
   "metadata": {},
   "outputs": [],
   "source": [
    "# sr.head()"
   ]
  },
  {
   "cell_type": "code",
   "execution_count": 5,
   "metadata": {},
   "outputs": [],
   "source": [
    "# data = yaml.load(open(topicos_solicitacao_path))"
   ]
  },
  {
   "cell_type": "code",
   "execution_count": 6,
   "metadata": {},
   "outputs": [],
   "source": [
    "vw_dossies = pd.read_excel(vw_dossies_path, sheet_name='vw_dossies2')\n",
    "vw_respostas = pd.read_excel(vw_respostas_path, sheet_name='vw_resposta2')\n",
    "solicitacoes = pd.read_csv(solicitacoes_path)"
   ]
  },
  {
   "cell_type": "code",
   "execution_count": 7,
   "metadata": {},
   "outputs": [
    {
     "output_type": "stream",
     "name": "stdout",
     "text": "<class 'pandas.core.frame.DataFrame'>\nRangeIndex: 464 entries, 0 to 463\nData columns (total 8 columns):\n #   Column               Non-Null Count  Dtype         \n---  ------               --------------  -----         \n 0   Instituição          464 non-null    object        \n 1   CNAE subclasse       464 non-null    object        \n 2   CNAE Descrição       464 non-null    object        \n 3   Cod. Dossie          464 non-null    int64         \n 4   Título do Dossiê     464 non-null    object        \n 5   Descrição do Dossiê  464 non-null    object        \n 6   Nº de Acessos        464 non-null    int64         \n 7   Data de Criação      464 non-null    datetime64[ns]\ndtypes: datetime64[ns](1), int64(2), object(5)\nmemory usage: 29.1+ KB\n"
    }
   ],
   "source": [
    "vw_dossies.info()"
   ]
  },
  {
   "cell_type": "code",
   "execution_count": 8,
   "metadata": {},
   "outputs": [
    {
     "output_type": "stream",
     "name": "stdout",
     "text": "<class 'pandas.core.frame.DataFrame'>\nRangeIndex: 31671 entries, 0 to 31670\nData columns (total 11 columns):\n #   Column                         Non-Null Count  Dtype         \n---  ------                         --------------  -----         \n 0   UF Origem da QT                31671 non-null  object        \n 1   Cod. Autor da QT               31671 non-null  int64         \n 2   Código da QT                   31671 non-null  int64         \n 3   Código da RT                   31671 non-null  int64         \n 4   Instituição                    31671 non-null  object        \n 5   CNAE Subclasse da RT           31671 non-null  object        \n 6   CNAE Subclasse Descrição       31671 non-null  object        \n 7   Titulo da RT                   29524 non-null  object        \n 8   Descrição da Resposta Técnica  31671 non-null  object        \n 9   Num. Acessos                   23341 non-null  float64       \n 10  Data de Criação                31671 non-null  datetime64[ns]\ndtypes: datetime64[ns](1), float64(1), int64(3), object(6)\nmemory usage: 2.7+ MB\n"
    }
   ],
   "source": [
    "vw_respostas.info()"
   ]
  },
  {
   "cell_type": "code",
   "execution_count": 9,
   "metadata": {},
   "outputs": [
    {
     "output_type": "execute_result",
     "data": {
      "text/plain": "    id UF_ORIG  AUTOR_QT  COD_QT      INST CNAE_SUB_RT  \\\n0   17      PR     22235   20053    TECPAR   1111-9/01   \n1   39      RJ     22231   20002   REDETEC   0161-0/99   \n2   66      RJ     22230   19959   REDETEC   1092-9/00   \n3  130      MA     22231   15701    IEL/BA   3702-9/00   \n4  133      RS     22223   19394  SENAI/RS   3102-1/00   \n\n                                      CNAE_SUB_DESCR  \\\n0         Fabricação de aguardente de cana-de-açúcar   \n1  Atividades de apoio à agricultura não especifi...   \n2                 Fabricação de biscoitos e bolachas   \n3  Atividades relacionadas a esgoto, exceto a ges...   \n4    Fabricação de móveis com predominância de metal   \n\n                                        TITULO_RT  \\\n0       Redução da graduação alcoólica de cachaça   \n1  Cultivo e beneficiamento do alho em embalagens   \n2                            Fabricação de torrão   \n3                                    Lodo ativado   \n4              Movéis tubulares de aço inoxidável   \n\n                                            DESCR_RT DATA_CRIACAO  \\\n0  Informações básicas sobre a redução da graduaç...    25/9/2007   \n1  Informações sobre o cultivo e beneficiamento d...    26/9/2007   \n2  Informações referentes à fabricação de torrão,...    1/10/2007   \n3  Informações sobre a formação das bactérias que...    4/10/2007   \n4  Informações sobre a matéria-prima e proce o pr...    5/10/2007   \n\n   codigo_solicitacao                                        solicitacao  \n0               20053  Como posso diminuir a graduação alcoólica da c...  \n1               20002  Gostaria de obter informações sobre o cultivo ...  \n2               19959  Solicita informações referentes à fabricação d...  \n3               15701  Como é a formação das bacterias que gera o lod...  \n4               19394  Informações sobre a matéria prima e processo p...  ",
      "text/html": "<div>\n<style scoped>\n    .dataframe tbody tr th:only-of-type {\n        vertical-align: middle;\n    }\n\n    .dataframe tbody tr th {\n        vertical-align: top;\n    }\n\n    .dataframe thead th {\n        text-align: right;\n    }\n</style>\n<table border=\"1\" class=\"dataframe\">\n  <thead>\n    <tr style=\"text-align: right;\">\n      <th></th>\n      <th>id</th>\n      <th>UF_ORIG</th>\n      <th>AUTOR_QT</th>\n      <th>COD_QT</th>\n      <th>INST</th>\n      <th>CNAE_SUB_RT</th>\n      <th>CNAE_SUB_DESCR</th>\n      <th>TITULO_RT</th>\n      <th>DESCR_RT</th>\n      <th>DATA_CRIACAO</th>\n      <th>codigo_solicitacao</th>\n      <th>solicitacao</th>\n    </tr>\n  </thead>\n  <tbody>\n    <tr>\n      <th>0</th>\n      <td>17</td>\n      <td>PR</td>\n      <td>22235</td>\n      <td>20053</td>\n      <td>TECPAR</td>\n      <td>1111-9/01</td>\n      <td>Fabricação de aguardente de cana-de-açúcar</td>\n      <td>Redução da graduação alcoólica de cachaça</td>\n      <td>Informações básicas sobre a redução da graduaç...</td>\n      <td>25/9/2007</td>\n      <td>20053</td>\n      <td>Como posso diminuir a graduação alcoólica da c...</td>\n    </tr>\n    <tr>\n      <th>1</th>\n      <td>39</td>\n      <td>RJ</td>\n      <td>22231</td>\n      <td>20002</td>\n      <td>REDETEC</td>\n      <td>0161-0/99</td>\n      <td>Atividades de apoio à agricultura não especifi...</td>\n      <td>Cultivo e beneficiamento do alho em embalagens</td>\n      <td>Informações sobre o cultivo e beneficiamento d...</td>\n      <td>26/9/2007</td>\n      <td>20002</td>\n      <td>Gostaria de obter informações sobre o cultivo ...</td>\n    </tr>\n    <tr>\n      <th>2</th>\n      <td>66</td>\n      <td>RJ</td>\n      <td>22230</td>\n      <td>19959</td>\n      <td>REDETEC</td>\n      <td>1092-9/00</td>\n      <td>Fabricação de biscoitos e bolachas</td>\n      <td>Fabricação de torrão</td>\n      <td>Informações referentes à fabricação de torrão,...</td>\n      <td>1/10/2007</td>\n      <td>19959</td>\n      <td>Solicita informações referentes à fabricação d...</td>\n    </tr>\n    <tr>\n      <th>3</th>\n      <td>130</td>\n      <td>MA</td>\n      <td>22231</td>\n      <td>15701</td>\n      <td>IEL/BA</td>\n      <td>3702-9/00</td>\n      <td>Atividades relacionadas a esgoto, exceto a ges...</td>\n      <td>Lodo ativado</td>\n      <td>Informações sobre a formação das bactérias que...</td>\n      <td>4/10/2007</td>\n      <td>15701</td>\n      <td>Como é a formação das bacterias que gera o lod...</td>\n    </tr>\n    <tr>\n      <th>4</th>\n      <td>133</td>\n      <td>RS</td>\n      <td>22223</td>\n      <td>19394</td>\n      <td>SENAI/RS</td>\n      <td>3102-1/00</td>\n      <td>Fabricação de móveis com predominância de metal</td>\n      <td>Movéis tubulares de aço inoxidável</td>\n      <td>Informações sobre a matéria-prima e proce o pr...</td>\n      <td>5/10/2007</td>\n      <td>19394</td>\n      <td>Informações sobre a matéria prima e processo p...</td>\n    </tr>\n  </tbody>\n</table>\n</div>"
     },
     "metadata": {},
     "execution_count": 9
    }
   ],
   "source": [
    "solicitacoes.head()"
   ]
  },
  {
   "cell_type": "code",
   "execution_count": 10,
   "metadata": {},
   "outputs": [],
   "source": [
    "# df = pd.DataFrame()\n",
    "# for o in data:\n",
    "#     row = pd.DataFrame(data=[[\n",
    "#         o[0],\n",
    "#         o[1:]\n",
    "#     ]], columns=['sentenca', 'palavras'])\n",
    "    \n",
    "#     df = df.append(row)"
   ]
  },
  {
   "cell_type": "code",
   "execution_count": 11,
   "metadata": {},
   "outputs": [],
   "source": [
    "# df.info()"
   ]
  },
  {
   "cell_type": "code",
   "execution_count": 31,
   "metadata": {},
   "outputs": [
    {
     "output_type": "execute_result",
     "data": {
      "text/plain": "'site sbrt servico brasileiro respostas tecnicas existem algumas respostas relacionam assunto segue abaixo lista respostas envase cachaca legislacao envase garrafas cachaca montagem cachacaria fornecedores equipamentos informamos ainda sebrae atende demandas abertura empresa informacoes relacionadas valores informamos tambem endereco telefone sebrae podera ajudar neste servico sebrae dourados rua presidente kennedy cep fone fax email conclusoes recomendacoes recomendamos entrar contato consultor saber custos abertura planejamento inicial negocio'"
     },
     "metadata": {},
     "execution_count": 31
    }
   ],
   "source": [
    "q = pre_process(solicitacoes.iloc[0].solicitacao)\n",
    "t = pre_process(\n",
    "    ' '.join(\n",
    "        open(f'{pre_processed_respostas_dir}/{solicitacoes.iloc[0].id}.txt').readlines()\n",
    "    )\n",
    ")\n",
    "\n",
    "t"
   ]
  },
  {
   "cell_type": "code",
   "execution_count": null,
   "metadata": {},
   "outputs": [],
   "source": []
  }
 ],
 "metadata": {
  "language_info": {
   "name": "python",
   "codemirror_mode": {
    "name": "ipython",
    "version": 3
   },
   "version": "3.6.9-final"
  },
  "orig_nbformat": 2,
  "file_extension": ".py",
  "mimetype": "text/x-python",
  "name": "python",
  "npconvert_exporter": "python",
  "pygments_lexer": "ipython3",
  "version": 3,
  "kernelspec": {
   "name": "python36964bitenvvenvc19fcdfdc8f64a8cb3a0e5ec4c509763",
   "display_name": "Python 3.6.9 64-bit ('env': venv)"
  }
 },
 "nbformat": 4,
 "nbformat_minor": 2
}