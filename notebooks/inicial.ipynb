{
 "cells": [
  {
   "cell_type": "code",
   "execution_count": 1,
   "metadata": {},
   "outputs": [],
   "source": [
    "%load_ext autoreload\n",
    "%autoreload 2"
   ]
  },
  {
   "cell_type": "code",
   "execution_count": 2,
   "metadata": {},
   "outputs": [
    {
     "output_type": "stream",
     "name": "stderr",
     "text": "[nltk_data] Downloading package stopwords to /home/yserk/nltk_data...\n[nltk_data]   Unzipping corpora/stopwords.zip.\n[nltk_data] Downloading package rslp to /home/yserk/nltk_data...\n[nltk_data]   Unzipping stemmers/rslp.zip.\n[nltk_data] Downloading package punkt to /home/yserk/nltk_data...\n[nltk_data]   Unzipping tokenizers/punkt.zip.\n"
    }
   ],
   "source": [
    "import pandas as pd\n",
    "from src.data.paths import vw_dossies_path, vw_respostas_path, solicitacoes_path, pre_processed_respostas_dir\n",
    "from src.data.preprocess import pre_process\n",
    "import yaml\n",
    "import numpy as np"
   ]
  },
  {
   "cell_type": "code",
   "execution_count": 3,
   "metadata": {},
   "outputs": [],
   "source": [
    "# sr = pd.read_csv(sentencas_respostas_path, sep='\\t', names=['doc_id',  'paragrafo_id', 'sentenca_id', 'sentenca'])"
   ]
  },
  {
   "cell_type": "code",
   "execution_count": 4,
   "metadata": {},
   "outputs": [],
   "source": [
    "# sr.head()"
   ]
  },
  {
   "cell_type": "code",
   "execution_count": 5,
   "metadata": {},
   "outputs": [],
   "source": [
    "# data = yaml.load(open(topicos_solicitacao_path))"
   ]
  },
  {
   "cell_type": "code",
   "execution_count": 6,
   "metadata": {},
   "outputs": [],
   "source": [
    "vw_dossies = pd.read_excel(vw_dossies_path, sheet_name='vw_dossies2')\n",
    "vw_respostas = pd.read_excel(vw_respostas_path, sheet_name='vw_resposta2')\n",
    "solicitacoes = pd.read_csv(solicitacoes_path)"
   ]
  },
  {
   "cell_type": "code",
   "execution_count": 7,
   "metadata": {},
   "outputs": [
    {
     "output_type": "stream",
     "name": "stdout",
     "text": "<class 'pandas.core.frame.DataFrame'>\nRangeIndex: 464 entries, 0 to 463\nData columns (total 8 columns):\n #   Column               Non-Null Count  Dtype         \n---  ------               --------------  -----         \n 0   Instituição          464 non-null    object        \n 1   CNAE subclasse       464 non-null    object        \n 2   CNAE Descrição       464 non-null    object        \n 3   Cod. Dossie          464 non-null    int64         \n 4   Título do Dossiê     464 non-null    object        \n 5   Descrição do Dossiê  464 non-null    object        \n 6   Nº de Acessos        464 non-null    int64         \n 7   Data de Criação      464 non-null    datetime64[ns]\ndtypes: datetime64[ns](1), int64(2), object(5)\nmemory usage: 29.1+ KB\n"
    }
   ],
   "source": [
    "vw_dossies.info()"
   ]
  },
  {
   "cell_type": "code",
   "execution_count": 8,
   "metadata": {},
   "outputs": [
    {
     "output_type": "stream",
     "name": "stdout",
     "text": "<class 'pandas.core.frame.DataFrame'>\nRangeIndex: 31671 entries, 0 to 31670\nData columns (total 11 columns):\n #   Column                         Non-Null Count  Dtype         \n---  ------                         --------------  -----         \n 0   UF Origem da QT                31671 non-null  object        \n 1   Cod. Autor da QT               31671 non-null  int64         \n 2   Código da QT                   31671 non-null  int64         \n 3   Código da RT                   31671 non-null  int64         \n 4   Instituição                    31671 non-null  object        \n 5   CNAE Subclasse da RT           31671 non-null  object        \n 6   CNAE Subclasse Descrição       31671 non-null  object        \n 7   Titulo da RT                   29524 non-null  object        \n 8   Descrição da Resposta Técnica  31671 non-null  object        \n 9   Num. Acessos                   23341 non-null  float64       \n 10  Data de Criação                31671 non-null  datetime64[ns]\ndtypes: datetime64[ns](1), float64(1), int64(3), object(6)\nmemory usage: 2.7+ MB\n"
    }
   ],
   "source": [
    "vw_respostas.info()"
   ]
  },
  {
   "cell_type": "code",
   "execution_count": 13,
   "metadata": {},
   "outputs": [
    {
     "output_type": "stream",
     "name": "stdout",
     "text": "<class 'pandas.core.frame.DataFrame'>\nRangeIndex: 19524 entries, 0 to 19523\nData columns (total 12 columns):\n #   Column              Non-Null Count  Dtype \n---  ------              --------------  ----- \n 0   id                  19524 non-null  int64 \n 1   UF_ORIG             19524 non-null  object\n 2   AUTOR_QT            19524 non-null  int64 \n 3   COD_QT              19524 non-null  int64 \n 4   INST                19524 non-null  object\n 5   CNAE_SUB_RT         19524 non-null  object\n 6   CNAE_SUB_DESCR      19524 non-null  object\n 7   TITULO_RT           19236 non-null  object\n 8   DESCR_RT            19524 non-null  object\n 9   DATA_CRIACAO        19524 non-null  object\n 10  codigo_solicitacao  19524 non-null  int64 \n 11  solicitacao         19524 non-null  object\ndtypes: int64(4), object(8)\nmemory usage: 1.8+ MB\n"
    }
   ],
   "source": [
    "solicitacoes.info()"
   ]
  },
  {
   "cell_type": "code",
   "execution_count": 10,
   "metadata": {},
   "outputs": [],
   "source": [
    "# df = pd.DataFrame()\n",
    "# for o in data:\n",
    "#     row = pd.DataFrame(data=[[\n",
    "#         o[0],\n",
    "#         o[1:]\n",
    "#     ]], columns=['sentenca', 'palavras'])\n",
    "    \n",
    "#     df = df.append(row)"
   ]
  },
  {
   "cell_type": "code",
   "execution_count": 11,
   "metadata": {},
   "outputs": [],
   "source": [
    "# df.info()"
   ]
  },
  {
   "cell_type": "code",
   "execution_count": 12,
   "metadata": {},
   "outputs": [
    {
     "output_type": "execute_result",
     "data": {
      "text/plain": "'site sbrt servico brasileiro respostas tecnicas existem algumas respostas relacionam assunto segue abaixo lista respostas envase cachaca legislacao envase garrafas cachaca montagem cachacaria fornecedores equipamentos informamos ainda sebrae atende demandas abertura empresa informacoes relacionadas valores informamos tambem endereco telefone sebrae podera ajudar neste servico sebrae dourados rua presidente kennedy cep fone fax email conclusoes recomendacoes recomendamos entrar contato consultor saber custos abertura planejamento inicial negocio'"
     },
     "metadata": {},
     "execution_count": 12
    }
   ],
   "source": [
    "q = pre_process(solicitacoes.iloc[0].solicitacao)\n",
    "t = pre_process(\n",
    "    ' '.join(\n",
    "        open(f'{pre_processed_respostas_dir}/{solicitacoes.iloc[0].id}.txt').readlines()\n",
    "    )\n",
    ")\n",
    "\n",
    "t"
   ]
  },
  {
   "cell_type": "code",
   "execution_count": null,
   "metadata": {},
   "outputs": [],
   "source": []
  }
 ],
 "metadata": {
  "language_info": {
   "name": "python",
   "codemirror_mode": {
    "name": "ipython",
    "version": 3
   },
   "version": "3.7.7-final"
  },
  "orig_nbformat": 2,
  "file_extension": ".py",
  "mimetype": "text/x-python",
  "name": "python",
  "npconvert_exporter": "python",
  "pygments_lexer": "ipython3",
  "version": 3,
  "kernelspec": {
   "name": "python37764bitvenvvenv346c3566a9ac4198b9b15f3ac45626ef",
   "display_name": "Python 3.7.7 64-bit ('.venv': venv)"
  }
 },
 "nbformat": 4,
 "nbformat_minor": 2
}